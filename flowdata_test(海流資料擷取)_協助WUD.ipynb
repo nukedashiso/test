{
 "cells": [
  {
   "cell_type": "code",
   "execution_count": 1,
   "metadata": {},
   "outputs": [],
   "source": [
    "import requests"
   ]
  },
  {
   "cell_type": "code",
   "execution_count": 2,
   "metadata": {},
   "outputs": [],
   "source": [
    "import pandas as pd\n",
    "import numpy as np\n",
    "import json"
   ]
  },
  {
   "cell_type": "code",
   "execution_count": 3,
   "metadata": {
    "scrolled": true
   },
   "outputs": [
    {
     "name": "stderr",
     "output_type": "stream",
     "text": [
      "D:\\anaconda3\\lib\\site-packages\\urllib3\\connectionpool.py:847: InsecureRequestWarning: Unverified HTTPS request is being made. Adding certificate verification is strongly advised. See: https://urllib3.readthedocs.io/en/latest/advanced-usage.html#ssl-warnings\n",
      "  InsecureRequestWarning)\n"
     ]
    },
    {
     "name": "stdout",
     "output_type": "stream",
     "text": [
      "200\n"
     ]
    },
    {
     "data": {
      "text/plain": [
       "requests.models.Response"
      ]
     },
     "execution_count": 3,
     "metadata": {},
     "output_type": "execute_result"
    }
   ],
   "source": [
    "r19 = requests.get(\"https://dprc3-123.wrap.gov.tw/FuncModule/RiverSea/WebService/RiverSea.ashx?cmd=hyinfo&sn=201103&spid=02&name=%E6%96%B0%E7%AB%B9%E6%BC%81%E6%B8%AF%E5%A4%96%E6%B5%B7CA01&class=current&st=2011/03/19&et=2011/04/15&_=1592981418270\", verify=False)\n",
    "\n",
    "# 輸入url\n",
    "\n",
    "print(r19.status_code)\n",
    "type(r19)\n",
    "#測試看有沒有讀取成功：\n",
    "#向網路伺服器發出請求時都會回傳 HTTP 狀態碼，表示有關請求的情況，常見的有：\n",
    "#200 一切順利，結果已經回傳\n",
    "#301 伺服器將使用者重新定向（re-direct）到另一個位址，當網站更換網域名稱或更改 Routes 時可能會發生\n",
    "#400 錯誤的請求\n",
    "#401 未通過伺服器的身份驗證，當請求沒有一併發送正確憑證時會發生。\n",
    "#403 伺服器已經理解請求，但是拒絕執行它，意即與請求一併發送的憑證無效\n",
    "#404 請求失敗"
   ]
  },
  {
   "cell_type": "code",
   "execution_count": 4,
   "metadata": {},
   "outputs": [],
   "source": [
    "list_of_dicts_19 = r19.json()"
   ]
  },
  {
   "cell_type": "code",
   "execution_count": 6,
   "metadata": {
    "scrolled": false
   },
   "outputs": [],
   "source": [
    "def get_target_value(key, dic, tmp_list):\n",
    "    \"\"\"\n",
    "    :param key: 目标key值\n",
    "    :param dic: JSON数据\n",
    "    :param tmp_list: 用于存储获取的数据\n",
    "    :return: list\n",
    "    \"\"\"\n",
    "    if not isinstance(dic, dict) or not isinstance(tmp_list, list):  # 对传入数据进行格式校验\n",
    "        return 'argv[1] not an dict or argv[-1] not an list '\n",
    "\n",
    "    if key in dic.keys():\n",
    "        tmp_list.append(dic[key])  # 传入数据存在则存入tmp_list\n",
    "\n",
    "    for value in dic.values():  # 传入数据不符合则对其value值进行遍历\n",
    "        if isinstance(value, dict):\n",
    "            get_target_value(key, value, tmp_list)  # 传入数据的value值是字典，则直接调用自身\n",
    "        elif isinstance(value, (list, tuple)):\n",
    "            _get_value(key, value, tmp_list)  # 传入数据的value值是列表或者元组，则调用_get_value\n",
    "\n",
    "\n",
    "    return tmp_list\n",
    "\n",
    "\n",
    "def _get_value(key, val, tmp_list):\n",
    "    for val_ in val:\n",
    "        if isinstance(val_, dict):  \n",
    "            get_target_value(key, val_, tmp_list)  # 传入数据的value值是字典，则调用get_target_value\n",
    "        elif isinstance(val_, (list, tuple)):\n",
    "            _get_value(key, val_, tmp_list)   # 传入数据的value值是列表或者元组，则调用自身\n",
    "            \n",
    "            \n",
    "#主要核心code，多層dict擷取資料，直接套用即可"
   ]
  },
  {
   "cell_type": "code",
   "execution_count": 7,
   "metadata": {},
   "outputs": [],
   "source": [
    "vew_list = get_target_value('VEW', list_of_dicts_19, [])\n",
    "vns_list = get_target_value('VNS', list_of_dicts_19, [])\n",
    "vv_list = get_target_value('VV', list_of_dicts_19, [])\n",
    "cd_list = get_target_value('CD', list_of_dicts_19, [])\n",
    "time_list = get_target_value('DataTime', list_of_dicts_19, [])"
   ]
  },
  {
   "cell_type": "code",
   "execution_count": 8,
   "metadata": {},
   "outputs": [],
   "source": [
    "combine_data = {\n",
    "                'DataTime': time_list,\n",
    "                'VEW(東西向流速)': vew_list,\n",
    "                'VNS(南北向流速)': vns_list,\n",
    "                'VV(總流速)': vv_list,\n",
    "                'CD(總流向)': cd_list,\n",
    "               }\n",
    "\n",
    "# 將讀取的各項list配合其column名稱轉成dict, 以方便做成DataFrame"
   ]
  },
  {
   "cell_type": "code",
   "execution_count": 9,
   "metadata": {
    "scrolled": true
   },
   "outputs": [],
   "source": [
    "df = pd.DataFrame(combine_data)"
   ]
  },
  {
   "cell_type": "code",
   "execution_count": 10,
   "metadata": {},
   "outputs": [
    {
     "data": {
      "text/html": [
       "<div>\n",
       "<style scoped>\n",
       "    .dataframe tbody tr th:only-of-type {\n",
       "        vertical-align: middle;\n",
       "    }\n",
       "\n",
       "    .dataframe tbody tr th {\n",
       "        vertical-align: top;\n",
       "    }\n",
       "\n",
       "    .dataframe thead th {\n",
       "        text-align: right;\n",
       "    }\n",
       "</style>\n",
       "<table border=\"1\" class=\"dataframe\">\n",
       "  <thead>\n",
       "    <tr style=\"text-align: right;\">\n",
       "      <th></th>\n",
       "      <th>DataTime</th>\n",
       "      <th>VEW(東西向流速)</th>\n",
       "      <th>VNS(南北向流速)</th>\n",
       "      <th>VV(總流速)</th>\n",
       "      <th>CD(總流向)</th>\n",
       "    </tr>\n",
       "  </thead>\n",
       "  <tbody>\n",
       "    <tr>\n",
       "      <th>0</th>\n",
       "      <td>2011/03/19 14:00:00</td>\n",
       "      <td>28</td>\n",
       "      <td>57</td>\n",
       "      <td>1</td>\n",
       "      <td>26</td>\n",
       "    </tr>\n",
       "    <tr>\n",
       "      <th>1</th>\n",
       "      <td>2011/03/19 14:00:00</td>\n",
       "      <td>32</td>\n",
       "      <td>62</td>\n",
       "      <td>2</td>\n",
       "      <td>27.8999996185303</td>\n",
       "    </tr>\n",
       "    <tr>\n",
       "      <th>2</th>\n",
       "      <td>2011/03/19 14:00:00</td>\n",
       "      <td>37</td>\n",
       "      <td>64</td>\n",
       "      <td>2</td>\n",
       "      <td>29.8999996185303</td>\n",
       "    </tr>\n",
       "    <tr>\n",
       "      <th>3</th>\n",
       "      <td>2011/03/19 14:00:00</td>\n",
       "      <td>40</td>\n",
       "      <td>68</td>\n",
       "      <td>2</td>\n",
       "      <td>30.7999992370605</td>\n",
       "    </tr>\n",
       "    <tr>\n",
       "      <th>4</th>\n",
       "      <td>2011/03/19 14:00:00</td>\n",
       "      <td>45</td>\n",
       "      <td>70</td>\n",
       "      <td>2</td>\n",
       "      <td>32.5999984741211</td>\n",
       "    </tr>\n",
       "  </tbody>\n",
       "</table>\n",
       "</div>"
      ],
      "text/plain": [
       "              DataTime VEW(東西向流速) VNS(南北向流速) VV(總流速)           CD(總流向)\n",
       "0  2011/03/19 14:00:00         28         57       1                26\n",
       "1  2011/03/19 14:00:00         32         62       2  27.8999996185303\n",
       "2  2011/03/19 14:00:00         37         64       2  29.8999996185303\n",
       "3  2011/03/19 14:00:00         40         68       2  30.7999992370605\n",
       "4  2011/03/19 14:00:00         45         70       2  32.5999984741211"
      ]
     },
     "execution_count": 10,
     "metadata": {},
     "output_type": "execute_result"
    }
   ],
   "source": [
    "df.head()"
   ]
  },
  {
   "cell_type": "code",
   "execution_count": 11,
   "metadata": {},
   "outputs": [],
   "source": [
    "writer=pd.ExcelWriter('shortterm_obs_test.xlsx')\n",
    "df.to_excel(writer, sheet_name = '新竹漁港外海CA0')\n",
    "\n",
    "writer.save()\n",
    "\n",
    "#將各別df存進同一excel中之不同sheet"
   ]
  },
  {
   "cell_type": "code",
   "execution_count": null,
   "metadata": {},
   "outputs": [],
   "source": []
  }
 ],
 "metadata": {
  "kernelspec": {
   "display_name": "Python 3",
   "language": "python",
   "name": "python3"
  },
  "language_info": {
   "codemirror_mode": {
    "name": "ipython",
    "version": 3
   },
   "file_extension": ".py",
   "mimetype": "text/x-python",
   "name": "python",
   "nbconvert_exporter": "python",
   "pygments_lexer": "ipython3",
   "version": "3.7.3"
  }
 },
 "nbformat": 4,
 "nbformat_minor": 2
}
