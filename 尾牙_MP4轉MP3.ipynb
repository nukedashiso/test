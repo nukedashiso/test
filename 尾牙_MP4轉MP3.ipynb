{
 "cells": [
  {
   "cell_type": "code",
   "execution_count": 1,
   "metadata": {},
   "outputs": [],
   "source": [
    "import os"
   ]
  },
  {
   "cell_type": "code",
   "execution_count": 2,
   "metadata": {
    "scrolled": true
   },
   "outputs": [
    {
     "name": "stdout",
     "output_type": "stream",
     "text": [
      "資料夾: ./.ipynb_checkpoints\n",
      "檔案: ./.ipynb_checkpoints\\MP4轉MP3-checkpoint.ipynb\n",
      "檔案: ./Avril Lavigne - I Fell In Love With The Devil (Official Video).mp3\n",
      "檔案: ./Avril Lavigne - I Fell In Love With The Devil (Official Video).mp4\n",
      "檔案: ./BURN IT DOWN (Official Video) - Linkin Park.mp3\n",
      "檔案: ./BURN IT DOWN (Official Video) - Linkin Park.mp4\n",
      "檔案: ./Christopher - Leap Of Faith (Official Music Video).mp3\n",
      "檔案: ./Christopher - Leap Of Faith (Official Music Video).mp4\n",
      "檔案: ./Ed Sheeran - Beautiful People (feat Khalid) [Official Video].mp3\n",
      "檔案: ./Ed Sheeran - Beautiful People (feat Khalid) [Official Video].mp4\n",
      "檔案: ./Ed Sheeran - Thinking Out Loud [Official Video].mp3\n",
      "檔案: ./Ed Sheeran - Thinking Out Loud [Official Video].mp4\n",
      "檔案: ./Hailee Steinfeld - Back to Life (from Bumblebee - Official Lyric Video).mp3\n",
      "檔案: ./Hailee Steinfeld - Back to Life (from Bumblebee - Official Lyric Video).mp4\n",
      "檔案: ./Jason Derulo - Colors (Official Music Video) The Coca-Cola Anthem for the 2018 FIFA World Cup.mp3\n",
      "檔案: ./Jason Derulo - Colors (Official Music Video) The Coca-Cola Anthem for the 2018 FIFA World Cup.mp4\n",
      "檔案: ./Jason Mraz  - Have It All (Official Video).mp3\n",
      "檔案: ./Jason Mraz  - Have It All (Official Video).mp4\n",
      "檔案: ./Jessie J - Flashlight (from Pitch Perfect 2) (Official Video).mp3\n",
      "檔案: ./Jessie J - Flashlight (from Pitch Perfect 2) (Official Video).mp4\n",
      "檔案: ./Kendrick Lamar SZA - All The Stars.mp3\n",
      "檔案: ./Kendrick Lamar SZA - All The Stars.mp4\n",
      "檔案: ./Maroon 5 - Girls Like You ft Cardi B (Official Music Video).mp3\n",
      "檔案: ./Maroon 5 - Girls Like You ft Cardi B (Official Music Video).mp4\n",
      "檔案: ./MAYDAY 五月天 [ 盛夏光年 Eternal Summer ] Official Live Video.mp3\n",
      "檔案: ./MAYDAY 五月天 [ 盛夏光年 Eternal Summer ] Official Live Video.mp4\n",
      "檔案: ./MP4轉MP3.ipynb\n",
      "檔案: ./RISE (ft The Glitch Mob Mako and The Word Alive)  Worlds 2018 - League of Legends.mp3\n",
      "檔案: ./RISE (ft The Glitch Mob Mako and The Word Alive)  Worlds 2018 - League of Legends.mp4\n",
      "檔案: ./SHE [美麗新世界 Genesis] Official Music Video.mp3\n",
      "檔案: ./SHE [美麗新世界 Genesis] Official Music Video.mp4\n",
      "檔案: ./Simple Plan - Summer Paradise ft Sean Paul (Official Video).mp3\n",
      "檔案: ./Simple Plan - Summer Paradise ft Sean Paul (Official Video).mp4\n",
      "檔案: ./Sixpence None The Richer - Kiss Me (Official HQ).mp3\n",
      "檔案: ./Sixpence None The Richer - Kiss Me (Official HQ).mp4\n",
      "檔案: ./Summer Feelings - Lennon Stella feat Charlie Puth (from Scoob! The Album) [Official Music Video].mp3\n",
      "檔案: ./Summer Feelings - Lennon Stella feat Charlie Puth (from Scoob! The Album) [Official Music Video].mp4\n",
      "檔案: ./Summer Vibe - Walk off the Earth (Original).mp3\n",
      "檔案: ./Summer Vibe - Walk off the Earth (Original).mp4\n",
      "檔案: ./The Chainsmokers - Dont Let Me Down ft Daya (Official Music Video).mp3\n",
      "檔案: ./The Chainsmokers - Dont Let Me Down ft Daya (Official Music Video).mp4\n",
      "檔案: ./周杰倫 Jay Chou【我要夏天 I Want Summer】Official MV (ft Gary楊瑞代).mp3\n",
      "檔案: ./周杰倫 Jay Chou【我要夏天 I Want Summer】Official MV (ft Gary楊瑞代).mp4\n",
      "檔案: ./孫燕姿 Sun Yan-Zi - 一樣的夏天 Summer As Usual (華納 official 官方完整版MV).mp3\n",
      "檔案: ./孫燕姿 Sun Yan-Zi - 一樣的夏天 Summer As Usual (華納 official 官方完整版MV).mp4\n",
      "檔案: ./張惠妹 STAR 10 夏天的浪花.mp3\n",
      "檔案: ./張惠妹 STAR 10 夏天的浪花.mp4\n",
      "檔案: ./歌單歌名.txt\n",
      "檔案: ./火羊瞌睡了 - 夏天的風【動態歌詞Lyrics Video】.mp4\n",
      "檔案: ./盧廣仲 Crowd Lu 【夏天的歌 Song of Summer】 Official Lyrics Video ( 電視劇《 月村歡迎你 》插曲).mp4\n",
      "檔案: ./脫拉庫 TOLAKU - 我愛夏天.mp4\n",
      "檔案: ./蘇打綠 sodagreen -【他夏了夏天】Official Music Video.mp4\n",
      "檔案: ./陶吉吉  沙灘 (HQ).mp4\n",
      "檔案: ./黃立行 冷水澡KTV.mp4\n"
     ]
    }
   ],
   "source": [
    "def batch_rename(path, prefix):\n",
    "    # 函數功能: 在指定path路徑下，將該層檔案及資料夾名稱前加上prefix字串\n",
    "    for fname in os.listdir(path):\n",
    "        new_fname = prefix+fname\n",
    "        os.rename(os.path.join(path, fname), os.path.join(path, new_fname))     \n",
    "        \n",
    "def batch_showname(path):\n",
    "    # 函數功能: 顯示指定路徑下，該層的檔案及資料夾名稱\n",
    "    for fname in os.listdir(path):\n",
    "        print(os.path.join(path, fname))\n",
    "        \n",
    "def find_dir(path):\n",
    "    # 函數功能: 遞迴顯示指定路徑下的所有檔案及資料夾名稱\n",
    "    for fd in os.listdir(path):\n",
    "        full_path=os.path.join(path,fd)\n",
    "        if os.path.isdir(full_path):\n",
    "            print('資料夾:',full_path)\n",
    "            find_dir(full_path)\n",
    "        else:\n",
    "            print('檔案:',full_path)\n",
    "            \n",
    "path=\"./\" #指向當前資料夾的路徑\n",
    "find_dir(path)"
   ]
  },
  {
   "cell_type": "code",
   "execution_count": 3,
   "metadata": {},
   "outputs": [],
   "source": [
    "from moviepy.editor import *"
   ]
  },
  {
   "cell_type": "code",
   "execution_count": 22,
   "metadata": {},
   "outputs": [],
   "source": [
    "with open('歌單歌名.txt') as file:\n",
    "    lists_of_songname = file.readlines()\n",
    "    file.close()"
   ]
  },
  {
   "cell_type": "code",
   "execution_count": 23,
   "metadata": {},
   "outputs": [
    {
     "data": {
      "text/plain": [
       "['Avril Lavigne - I Fell In Love With The Devil (Official Video).mp4\\n',\n",
       " 'BURN IT DOWN (Official Video) - Linkin Park.mp4\\n',\n",
       " 'Christopher - Leap Of Faith (Official Music Video).mp4\\n',\n",
       " 'Ed Sheeran - Beautiful People (feat Khalid) [Official Video].mp4\\n',\n",
       " 'Ed Sheeran - Thinking Out Loud [Official Video].mp4\\n',\n",
       " 'Hailee Steinfeld - Back to Life (from Bumblebee - Official Lyric Video).mp4\\n',\n",
       " 'Jason Derulo - Colors (Official Music Video) The Coca-Cola Anthem for the 2018 FIFA World Cup.mp4\\n',\n",
       " 'Jason Mraz  - Have It All (Official Video).mp4\\n',\n",
       " 'Jessie J - Flashlight (from Pitch Perfect 2) (Official Video).mp4\\n',\n",
       " 'Kendrick Lamar SZA - All The Stars.mp4\\n',\n",
       " 'Maroon 5 - Girls Like You ft Cardi B (Official Music Video).mp4\\n',\n",
       " 'MAYDAY 五月天 [ 盛夏光年 Eternal Summer ] Official Live Video.mp4\\n',\n",
       " 'RISE (ft The Glitch Mob Mako and The Word Alive)  Worlds 2018 - League of Legends.mp4\\n',\n",
       " 'SHE [美麗新世界 Genesis] Official Music Video.mp4\\n',\n",
       " 'Simple Plan - Summer Paradise ft Sean Paul (Official Video).mp4\\n',\n",
       " 'Sixpence None The Richer - Kiss Me (Official HQ).mp4\\n',\n",
       " 'Summer Feelings - Lennon Stella feat Charlie Puth (from Scoob! The Album) [Official Music Video].mp4\\n',\n",
       " 'Summer Vibe - Walk off the Earth (Original).mp4\\n',\n",
       " 'The Chainsmokers - Dont Let Me Down ft Daya (Official Music Video).mp4\\n',\n",
       " '周杰倫 Jay Chou【我要夏天 I Want Summer】Official MV (ft Gary楊瑞代).mp4\\n',\n",
       " '孫燕姿 Sun Yan-Zi - 一樣的夏天 Summer As Usual (華納 official 官方完整版MV).mp4\\n',\n",
       " '張惠妹 STAR 10 夏天的浪花.mp4\\n',\n",
       " '火羊瞌睡了 - 夏天的風【動態歌詞Lyrics Video】.mp4\\n',\n",
       " '盧廣仲 Crowd Lu 【夏天的歌 Song of Summer】 Official Lyrics Video ( 電視劇《 月村歡迎你 》插曲).mp4\\n',\n",
       " '脫拉庫 TOLAKU - 我愛夏天.mp4\\n',\n",
       " '蘇打綠 sodagreen -【他夏了夏天】Official Music Video.mp4\\n',\n",
       " '陶吉吉-沙灘.mp4\\n',\n",
       " '黃立行 冷水澡KTV.mp4\\n']"
      ]
     },
     "execution_count": 23,
     "metadata": {},
     "output_type": "execute_result"
    }
   ],
   "source": [
    "lists_of_songname"
   ]
  },
  {
   "cell_type": "code",
   "execution_count": 24,
   "metadata": {},
   "outputs": [],
   "source": [
    "lists_of_songname_mp4 = []\n",
    "for i in range(28):\n",
    "    lists_of_songname_mp4.append(lists_of_songname[i].replace('4\\n', '4'))"
   ]
  },
  {
   "cell_type": "code",
   "execution_count": 25,
   "metadata": {},
   "outputs": [
    {
     "data": {
      "text/plain": [
       "['Avril Lavigne - I Fell In Love With The Devil (Official Video).mp4',\n",
       " 'BURN IT DOWN (Official Video) - Linkin Park.mp4',\n",
       " 'Christopher - Leap Of Faith (Official Music Video).mp4',\n",
       " 'Ed Sheeran - Beautiful People (feat Khalid) [Official Video].mp4',\n",
       " 'Ed Sheeran - Thinking Out Loud [Official Video].mp4',\n",
       " 'Hailee Steinfeld - Back to Life (from Bumblebee - Official Lyric Video).mp4',\n",
       " 'Jason Derulo - Colors (Official Music Video) The Coca-Cola Anthem for the 2018 FIFA World Cup.mp4',\n",
       " 'Jason Mraz  - Have It All (Official Video).mp4',\n",
       " 'Jessie J - Flashlight (from Pitch Perfect 2) (Official Video).mp4',\n",
       " 'Kendrick Lamar SZA - All The Stars.mp4',\n",
       " 'Maroon 5 - Girls Like You ft Cardi B (Official Music Video).mp4',\n",
       " 'MAYDAY 五月天 [ 盛夏光年 Eternal Summer ] Official Live Video.mp4',\n",
       " 'RISE (ft The Glitch Mob Mako and The Word Alive)  Worlds 2018 - League of Legends.mp4',\n",
       " 'SHE [美麗新世界 Genesis] Official Music Video.mp4',\n",
       " 'Simple Plan - Summer Paradise ft Sean Paul (Official Video).mp4',\n",
       " 'Sixpence None The Richer - Kiss Me (Official HQ).mp4',\n",
       " 'Summer Feelings - Lennon Stella feat Charlie Puth (from Scoob! The Album) [Official Music Video].mp4',\n",
       " 'Summer Vibe - Walk off the Earth (Original).mp4',\n",
       " 'The Chainsmokers - Dont Let Me Down ft Daya (Official Music Video).mp4',\n",
       " '周杰倫 Jay Chou【我要夏天 I Want Summer】Official MV (ft Gary楊瑞代).mp4',\n",
       " '孫燕姿 Sun Yan-Zi - 一樣的夏天 Summer As Usual (華納 official 官方完整版MV).mp4',\n",
       " '張惠妹 STAR 10 夏天的浪花.mp4',\n",
       " '火羊瞌睡了 - 夏天的風【動態歌詞Lyrics Video】.mp4',\n",
       " '盧廣仲 Crowd Lu 【夏天的歌 Song of Summer】 Official Lyrics Video ( 電視劇《 月村歡迎你 》插曲).mp4',\n",
       " '脫拉庫 TOLAKU - 我愛夏天.mp4',\n",
       " '蘇打綠 sodagreen -【他夏了夏天】Official Music Video.mp4',\n",
       " '陶吉吉-沙灘.mp4',\n",
       " '黃立行 冷水澡KTV.mp4']"
      ]
     },
     "execution_count": 25,
     "metadata": {},
     "output_type": "execute_result"
    }
   ],
   "source": [
    "lists_of_songname_mp4"
   ]
  },
  {
   "cell_type": "code",
   "execution_count": 26,
   "metadata": {},
   "outputs": [],
   "source": [
    "lists_of_songname_mp3 = []\n",
    "for i in range(28):\n",
    "    lists_of_songname_mp3.append(lists_of_songname[i].replace('4\\n', '3'))"
   ]
  },
  {
   "cell_type": "code",
   "execution_count": 27,
   "metadata": {},
   "outputs": [
    {
     "data": {
      "text/plain": [
       "['Avril Lavigne - I Fell In Love With The Devil (Official Video).mp3',\n",
       " 'BURN IT DOWN (Official Video) - Linkin Park.mp3',\n",
       " 'Christopher - Leap Of Faith (Official Music Video).mp3',\n",
       " 'Ed Sheeran - Beautiful People (feat Khalid) [Official Video].mp3',\n",
       " 'Ed Sheeran - Thinking Out Loud [Official Video].mp3',\n",
       " 'Hailee Steinfeld - Back to Life (from Bumblebee - Official Lyric Video).mp3',\n",
       " 'Jason Derulo - Colors (Official Music Video) The Coca-Cola Anthem for the 2018 FIFA World Cup.mp3',\n",
       " 'Jason Mraz  - Have It All (Official Video).mp3',\n",
       " 'Jessie J - Flashlight (from Pitch Perfect 2) (Official Video).mp3',\n",
       " 'Kendrick Lamar SZA - All The Stars.mp3',\n",
       " 'Maroon 5 - Girls Like You ft Cardi B (Official Music Video).mp3',\n",
       " 'MAYDAY 五月天 [ 盛夏光年 Eternal Summer ] Official Live Video.mp3',\n",
       " 'RISE (ft The Glitch Mob Mako and The Word Alive)  Worlds 2018 - League of Legends.mp3',\n",
       " 'SHE [美麗新世界 Genesis] Official Music Video.mp3',\n",
       " 'Simple Plan - Summer Paradise ft Sean Paul (Official Video).mp3',\n",
       " 'Sixpence None The Richer - Kiss Me (Official HQ).mp3',\n",
       " 'Summer Feelings - Lennon Stella feat Charlie Puth (from Scoob! The Album) [Official Music Video].mp3',\n",
       " 'Summer Vibe - Walk off the Earth (Original).mp3',\n",
       " 'The Chainsmokers - Dont Let Me Down ft Daya (Official Music Video).mp3',\n",
       " '周杰倫 Jay Chou【我要夏天 I Want Summer】Official MV (ft Gary楊瑞代).mp3',\n",
       " '孫燕姿 Sun Yan-Zi - 一樣的夏天 Summer As Usual (華納 official 官方完整版MV).mp3',\n",
       " '張惠妹 STAR 10 夏天的浪花.mp3',\n",
       " '火羊瞌睡了 - 夏天的風【動態歌詞Lyrics Video】.mp3',\n",
       " '盧廣仲 Crowd Lu 【夏天的歌 Song of Summer】 Official Lyrics Video ( 電視劇《 月村歡迎你 》插曲).mp3',\n",
       " '脫拉庫 TOLAKU - 我愛夏天.mp3',\n",
       " '蘇打綠 sodagreen -【他夏了夏天】Official Music Video.mp3',\n",
       " '陶吉吉-沙灘.mp3',\n",
       " '黃立行 冷水澡KTV.mp3']"
      ]
     },
     "execution_count": 27,
     "metadata": {},
     "output_type": "execute_result"
    }
   ],
   "source": [
    "lists_of_songname_mp3"
   ]
  },
  {
   "cell_type": "code",
   "execution_count": 29,
   "metadata": {},
   "outputs": [
    {
     "name": "stdout",
     "output_type": "stream",
     "text": [
      "MoviePy - Writing audio in Avril Lavigne - I Fell In Love With The Devil (Official Video).mp3\n"
     ]
    },
    {
     "name": "stderr",
     "output_type": "stream",
     "text": [
      "                                                                                                                       \r"
     ]
    },
    {
     "name": "stdout",
     "output_type": "stream",
     "text": [
      "MoviePy - Done.\n",
      "MoviePy - Writing audio in BURN IT DOWN (Official Video) - Linkin Park.mp3\n"
     ]
    },
    {
     "name": "stderr",
     "output_type": "stream",
     "text": [
      "                                                                                                                       \r"
     ]
    },
    {
     "name": "stdout",
     "output_type": "stream",
     "text": [
      "MoviePy - Done.\n",
      "MoviePy - Writing audio in Christopher - Leap Of Faith (Official Music Video).mp3\n"
     ]
    },
    {
     "name": "stderr",
     "output_type": "stream",
     "text": [
      "                                                                                                                       \r"
     ]
    },
    {
     "name": "stdout",
     "output_type": "stream",
     "text": [
      "MoviePy - Done.\n",
      "MoviePy - Writing audio in Ed Sheeran - Beautiful People (feat Khalid) [Official Video].mp3\n"
     ]
    },
    {
     "name": "stderr",
     "output_type": "stream",
     "text": [
      "                                                                                                                       \r"
     ]
    },
    {
     "name": "stdout",
     "output_type": "stream",
     "text": [
      "MoviePy - Done.\n",
      "MoviePy - Writing audio in Ed Sheeran - Thinking Out Loud [Official Video].mp3\n"
     ]
    },
    {
     "name": "stderr",
     "output_type": "stream",
     "text": [
      "                                                                                                                       \r"
     ]
    },
    {
     "name": "stdout",
     "output_type": "stream",
     "text": [
      "MoviePy - Done.\n",
      "MoviePy - Writing audio in Hailee Steinfeld - Back to Life (from Bumblebee - Official Lyric Video).mp3\n"
     ]
    },
    {
     "name": "stderr",
     "output_type": "stream",
     "text": [
      "                                                                                                                       \r"
     ]
    },
    {
     "name": "stdout",
     "output_type": "stream",
     "text": [
      "MoviePy - Done.\n",
      "MoviePy - Writing audio in Jason Derulo - Colors (Official Music Video) The Coca-Cola Anthem for the 2018 FIFA World Cup.mp3\n"
     ]
    },
    {
     "name": "stderr",
     "output_type": "stream",
     "text": [
      "                                                                                                                       \r"
     ]
    },
    {
     "name": "stdout",
     "output_type": "stream",
     "text": [
      "MoviePy - Done.\n",
      "MoviePy - Writing audio in Jason Mraz  - Have It All (Official Video).mp3\n"
     ]
    },
    {
     "name": "stderr",
     "output_type": "stream",
     "text": [
      "                                                                                                                       \r"
     ]
    },
    {
     "name": "stdout",
     "output_type": "stream",
     "text": [
      "MoviePy - Done.\n",
      "MoviePy - Writing audio in Jessie J - Flashlight (from Pitch Perfect 2) (Official Video).mp3\n"
     ]
    },
    {
     "name": "stderr",
     "output_type": "stream",
     "text": [
      "                                                                                                                       \r"
     ]
    },
    {
     "name": "stdout",
     "output_type": "stream",
     "text": [
      "MoviePy - Done.\n",
      "MoviePy - Writing audio in Kendrick Lamar SZA - All The Stars.mp3\n"
     ]
    },
    {
     "name": "stderr",
     "output_type": "stream",
     "text": [
      "                                                                                                                       \r"
     ]
    },
    {
     "name": "stdout",
     "output_type": "stream",
     "text": [
      "MoviePy - Done.\n",
      "MoviePy - Writing audio in Maroon 5 - Girls Like You ft Cardi B (Official Music Video).mp3\n"
     ]
    },
    {
     "name": "stderr",
     "output_type": "stream",
     "text": [
      "                                                                                                                       \r"
     ]
    },
    {
     "name": "stdout",
     "output_type": "stream",
     "text": [
      "MoviePy - Done.\n",
      "MoviePy - Writing audio in MAYDAY 五月天 [ 盛夏光年 Eternal Summer ] Official Live Video.mp3\n"
     ]
    },
    {
     "name": "stderr",
     "output_type": "stream",
     "text": [
      "                                                                                                                       \r"
     ]
    },
    {
     "name": "stdout",
     "output_type": "stream",
     "text": [
      "MoviePy - Done.\n",
      "MoviePy - Writing audio in RISE (ft The Glitch Mob Mako and The Word Alive)  Worlds 2018 - League of Legends.mp3\n"
     ]
    },
    {
     "name": "stderr",
     "output_type": "stream",
     "text": [
      "                                                                                                                       \r"
     ]
    },
    {
     "name": "stdout",
     "output_type": "stream",
     "text": [
      "MoviePy - Done.\n",
      "MoviePy - Writing audio in SHE [美麗新世界 Genesis] Official Music Video.mp3\n"
     ]
    },
    {
     "name": "stderr",
     "output_type": "stream",
     "text": [
      "                                                                                                                       \r"
     ]
    },
    {
     "name": "stdout",
     "output_type": "stream",
     "text": [
      "MoviePy - Done.\n",
      "MoviePy - Writing audio in Simple Plan - Summer Paradise ft Sean Paul (Official Video).mp3\n"
     ]
    },
    {
     "name": "stderr",
     "output_type": "stream",
     "text": [
      "                                                                                                                       \r"
     ]
    },
    {
     "name": "stdout",
     "output_type": "stream",
     "text": [
      "MoviePy - Done.\n",
      "MoviePy - Writing audio in Sixpence None The Richer - Kiss Me (Official HQ).mp3\n"
     ]
    },
    {
     "name": "stderr",
     "output_type": "stream",
     "text": [
      "                                                                                                                       \r"
     ]
    },
    {
     "name": "stdout",
     "output_type": "stream",
     "text": [
      "MoviePy - Done.\n",
      "MoviePy - Writing audio in Summer Feelings - Lennon Stella feat Charlie Puth (from Scoob! The Album) [Official Music Video].mp3\n"
     ]
    },
    {
     "name": "stderr",
     "output_type": "stream",
     "text": [
      "                                                                                                                       \r"
     ]
    },
    {
     "name": "stdout",
     "output_type": "stream",
     "text": [
      "MoviePy - Done.\n",
      "MoviePy - Writing audio in Summer Vibe - Walk off the Earth (Original).mp3\n"
     ]
    },
    {
     "name": "stderr",
     "output_type": "stream",
     "text": [
      "                                                                                                                       \r"
     ]
    },
    {
     "name": "stdout",
     "output_type": "stream",
     "text": [
      "MoviePy - Done.\n",
      "MoviePy - Writing audio in The Chainsmokers - Dont Let Me Down ft Daya (Official Music Video).mp3\n"
     ]
    },
    {
     "name": "stderr",
     "output_type": "stream",
     "text": [
      "                                                                                                                       \r"
     ]
    },
    {
     "name": "stdout",
     "output_type": "stream",
     "text": [
      "MoviePy - Done.\n",
      "MoviePy - Writing audio in 周杰倫 Jay Chou【我要夏天 I Want Summer】Official MV (ft Gary楊瑞代).mp3\n"
     ]
    },
    {
     "name": "stderr",
     "output_type": "stream",
     "text": [
      "                                                                                                                       \r"
     ]
    },
    {
     "name": "stdout",
     "output_type": "stream",
     "text": [
      "MoviePy - Done.\n",
      "MoviePy - Writing audio in 孫燕姿 Sun Yan-Zi - 一樣的夏天 Summer As Usual (華納 official 官方完整版MV).mp3\n"
     ]
    },
    {
     "name": "stderr",
     "output_type": "stream",
     "text": [
      "                                                                                                                       \r"
     ]
    },
    {
     "name": "stdout",
     "output_type": "stream",
     "text": [
      "MoviePy - Done.\n",
      "MoviePy - Writing audio in 張惠妹 STAR 10 夏天的浪花.mp3\n"
     ]
    },
    {
     "name": "stderr",
     "output_type": "stream",
     "text": [
      "                                                                                                                       \r"
     ]
    },
    {
     "name": "stdout",
     "output_type": "stream",
     "text": [
      "MoviePy - Done.\n",
      "MoviePy - Writing audio in 火羊瞌睡了 - 夏天的風【動態歌詞Lyrics Video】.mp3\n"
     ]
    },
    {
     "name": "stderr",
     "output_type": "stream",
     "text": [
      "                                                                                                                       \r"
     ]
    },
    {
     "name": "stdout",
     "output_type": "stream",
     "text": [
      "MoviePy - Done.\n",
      "MoviePy - Writing audio in 盧廣仲 Crowd Lu 【夏天的歌 Song of Summer】 Official Lyrics Video ( 電視劇《 月村歡迎你 》插曲).mp3\n"
     ]
    },
    {
     "name": "stderr",
     "output_type": "stream",
     "text": [
      "                                                                                                                       \r"
     ]
    },
    {
     "name": "stdout",
     "output_type": "stream",
     "text": [
      "MoviePy - Done.\n",
      "MoviePy - Writing audio in 脫拉庫 TOLAKU - 我愛夏天.mp3\n"
     ]
    },
    {
     "name": "stderr",
     "output_type": "stream",
     "text": [
      "                                                                                                                       \r"
     ]
    },
    {
     "name": "stdout",
     "output_type": "stream",
     "text": [
      "MoviePy - Done.\n",
      "MoviePy - Writing audio in 蘇打綠 sodagreen -【他夏了夏天】Official Music Video.mp3\n"
     ]
    },
    {
     "name": "stderr",
     "output_type": "stream",
     "text": [
      "                                                                                                                       \r"
     ]
    },
    {
     "name": "stdout",
     "output_type": "stream",
     "text": [
      "MoviePy - Done.\n",
      "MoviePy - Writing audio in 陶吉吉-沙灘.mp3\n"
     ]
    },
    {
     "name": "stderr",
     "output_type": "stream",
     "text": [
      "                                                                                                                       \r"
     ]
    },
    {
     "name": "stdout",
     "output_type": "stream",
     "text": [
      "MoviePy - Done.\n",
      "MoviePy - Writing audio in 黃立行 冷水澡KTV.mp3\n"
     ]
    },
    {
     "name": "stderr",
     "output_type": "stream",
     "text": [
      "                                                                                                                       \r"
     ]
    },
    {
     "name": "stdout",
     "output_type": "stream",
     "text": [
      "MoviePy - Done.\n"
     ]
    }
   ],
   "source": [
    "for i in range(28):\n",
    "    video = VideoFileClip(lists_of_songname_mp4[i])\n",
    "    video.audio.write_audiofile(lists_of_songname_mp3[i])"
   ]
  },
  {
   "cell_type": "code",
   "execution_count": null,
   "metadata": {},
   "outputs": [],
   "source": []
  }
 ],
 "metadata": {
  "kernelspec": {
   "display_name": "Python 3",
   "language": "python",
   "name": "python3"
  },
  "language_info": {
   "codemirror_mode": {
    "name": "ipython",
    "version": 3
   },
   "file_extension": ".py",
   "mimetype": "text/x-python",
   "name": "python",
   "nbconvert_exporter": "python",
   "pygments_lexer": "ipython3",
   "version": "3.7.3"
  }
 },
 "nbformat": 4,
 "nbformat_minor": 2
}
