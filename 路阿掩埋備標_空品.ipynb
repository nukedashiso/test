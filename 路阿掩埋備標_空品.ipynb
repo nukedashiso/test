{
 "cells": [
  {
   "cell_type": "code",
   "execution_count": 1,
   "metadata": {},
   "outputs": [],
   "source": [
    "%matplotlib inline"
   ]
  },
  {
   "cell_type": "code",
   "execution_count": 2,
   "metadata": {},
   "outputs": [],
   "source": [
    "import pandas as pd\n",
    "import numpy as np\n",
    "import os"
   ]
  },
  {
   "cell_type": "code",
   "execution_count": 3,
   "metadata": {},
   "outputs": [],
   "source": [
    "dirpath = r'C:\\Users\\Roger.Lai1\\Desktop\\路阿掩埋備標'"
   ]
  },
  {
   "cell_type": "code",
   "execution_count": 4,
   "metadata": {},
   "outputs": [],
   "source": [
    "names_of_file = list(os.listdir(dirpath))"
   ]
  },
  {
   "cell_type": "code",
   "execution_count": 5,
   "metadata": {},
   "outputs": [],
   "source": [
    "specifyname_of_file = []\n",
    "for name in names_of_file:\n",
    "    if name.endswith('.xls'):\n",
    "        specifyname_of_file.append(name)\n",
    "        \n",
    "## 僅讀取特定副檔名資料"
   ]
  },
  {
   "cell_type": "code",
   "execution_count": 6,
   "metadata": {},
   "outputs": [
    {
     "data": {
      "text/plain": [
       "['106年橋頭站_20180309.xls', '107年橋頭站_20190315.xls', '108年橋頭站_20200317.xls']"
      ]
     },
     "execution_count": 6,
     "metadata": {},
     "output_type": "execute_result"
    }
   ],
   "source": [
    "specifyname_of_file"
   ]
  },
  {
   "cell_type": "code",
   "execution_count": 7,
   "metadata": {},
   "outputs": [],
   "source": [
    "def 統計(測項統計, 測項):\n",
    "    測項統計 = []\n",
    "    for specifyname in specifyname_of_file:\n",
    "        df = pd.read_excel(specifyname)\n",
    "    #df1 = df[df['測項'] == 'PM2.5']\n",
    "    #df1.index = range(1, len(df1['日期']+1))  ##不知道為何不行，可再研究，目前是用loc及index去讀測站第一格\n",
    "        list_of_cols = list(df.columns)\n",
    "    ## 將column name做成list\n",
    "    \n",
    "        for i in range(3):\n",
    "            list_of_cols.pop(0)\n",
    "        ## 因columm name前三個不需要，用pop依序移除\n",
    "    \n",
    "        for list_of_col in list_of_cols:\n",
    "            df[list_of_col] = pd.to_numeric(df[list_of_col], errors='coerce')\n",
    "        ## 將00-23欄位數值全轉為float型態\n",
    "        \n",
    "        s_avg = df[df['測項'] == 測項][df[df['測項'] == 測項].count(axis=1, numeric_only=True) >= 16]\\\n",
    "               .mean(axis=1, numeric_only=True)\\\n",
    "               .map(lambda x:('%.2f')%x)\n",
    "    ## 計算日平均值(筆數大於等於16，小數點後2位)\n",
    "    \n",
    "        s_avg_num = pd.to_numeric(s_avg, errors='coerce')\n",
    "    ## 計算完的日平均值仍會是object，故再將數值轉一次float\n",
    "    \n",
    "        s_hr_max = df[df['測項'] == 測項].max(numeric_only=True).max()\n",
    "        s_hr_max_num = pd.to_numeric(s_hr_max, errors='coerce')\n",
    "    \n",
    "        dict_of_stats = {\n",
    "            '年度' : df[df['測項'] == 測項].loc[df[df['測項'] == 測項].index[0], '日期'],\n",
    "            '測站' : df[df['測項'] == 測項].loc[df[df['測項'] == 測項].index[0], '測站'],\n",
    "            '測項' : df[df['測項'] == 測項].loc[df[df['測項'] == 測項].index[0], '測項'],\n",
    "            '最大小時平均值' : s_hr_max_num,\n",
    "            '最小日平均值' : s_avg_num.min(),\n",
    "            '最大日平均值' : s_avg_num.max(),\n",
    "            '平均值' : s_avg_num.mean(),\n",
    "            '標準差' : s_avg_num.std(),\n",
    "            'Q1' : s_avg_num.quantile(0.25),\n",
    "            'Q2' : s_avg_num.quantile(0.5),\n",
    "            'Q3' : s_avg_num.quantile(0.75),\n",
    "            '有效個數' : s_avg_num.count()\n",
    "        }\n",
    "    ## 計算各敘述統計值並做成dict\n",
    "    \n",
    "        測項統計.append(dict_of_stats) \n",
    "    ## 將各站dict append進去空list\n",
    "    return 測項統計\n",
    "    #print(specifyname,\n",
    "          #df1.loc[df1.index[0], '測站'],\n",
    "          #s_avg_num.mean(),\n",
    "          #s_avg_num.max(),\n",
    "          #s_avg_num.min(),\n",
    "          #s_avg_num.std(),\n",
    "          #s_avg_num.count(),\n",
    "          #s_avg_num.quantile(0.25),\n",
    "          #s_avg_num.quantile(0.5),\n",
    "          #s_avg_num.quantile(0.75))\n",
    "    ## print是用來測試\n",
    "    df_測項 = pd.DataFrame(測項統計)\n",
    "    df_測項"
   ]
  },
  {
   "cell_type": "code",
   "execution_count": 9,
   "metadata": {
    "scrolled": true
   },
   "outputs": [
    {
     "data": {
      "text/plain": [
       "[{'年度': '2017/01/01',\n",
       "  '測站': '橋頭',\n",
       "  '測項': 'O3',\n",
       "  '最大小時平均值': 116.0,\n",
       "  '最小日平均值': 7.42,\n",
       "  '最大日平均值': 63.3,\n",
       "  '平均值': 27.167863013698618,\n",
       "  '標準差': 10.094215530638596,\n",
       "  'Q1': 19.22,\n",
       "  'Q2': 27.06,\n",
       "  'Q3': 32.32,\n",
       "  '有效個數': 365},\n",
       " {'年度': '2018/01/01',\n",
       "  '測站': '橋頭',\n",
       "  '測項': 'O3',\n",
       "  '最大小時平均值': 122.0,\n",
       "  '最小日平均值': 4.34,\n",
       "  '最大日平均值': 67.25,\n",
       "  '平均值': 27.923553719008293,\n",
       "  '標準差': 10.838577932106148,\n",
       "  'Q1': 19.924999999999997,\n",
       "  'Q2': 26.46,\n",
       "  'Q3': 35.01,\n",
       "  '有效個數': 363},\n",
       " {'年度': '2019/01/01',\n",
       "  '測站': '橋頭',\n",
       "  '測項': 'O3',\n",
       "  '最大小時平均值': 115.0,\n",
       "  '最小日平均值': 8.77,\n",
       "  '最大日平均值': 66.83,\n",
       "  '平均值': 31.004986301369843,\n",
       "  '標準差': 11.435834935538756,\n",
       "  'Q1': 22.1,\n",
       "  'Q2': 29.75,\n",
       "  'Q3': 38.71,\n",
       "  '有效個數': 365}]"
      ]
     },
     "execution_count": 9,
     "metadata": {},
     "output_type": "execute_result"
    }
   ],
   "source": [
    "統計([], 'O3')"
   ]
  },
  {
   "cell_type": "code",
   "execution_count": 10,
   "metadata": {},
   "outputs": [],
   "source": [
    "df11 = pd.DataFrame(統計([], 'PM10'))\n",
    "df12 = pd.DataFrame(統計([], 'PM2.5'))\n",
    "df13= pd.DataFrame(統計([], 'SO2'))\n",
    "df14 = pd.DataFrame(統計([], 'NO2'))\n",
    "df15 = pd.DataFrame(統計([], 'O3'))\n",
    "df16 = pd.DataFrame(統計([], 'CO'))"
   ]
  },
  {
   "cell_type": "code",
   "execution_count": 11,
   "metadata": {},
   "outputs": [
    {
     "name": "stderr",
     "output_type": "stream",
     "text": [
      "D:\\anaconda3\\lib\\site-packages\\ipykernel_launcher.py:14: SettingWithCopyWarning: \n",
      "A value is trying to be set on a copy of a slice from a DataFrame.\n",
      "Try using .loc[row_indexer,col_indexer] = value instead\n",
      "\n",
      "See the caveats in the documentation: http://pandas.pydata.org/pandas-docs/stable/indexing.html#indexing-view-versus-copy\n",
      "  \n"
     ]
    },
    {
     "name": "stdout",
     "output_type": "stream",
     "text": [
      "106年橋頭站_20180309.xls 橋頭 30.976840659340684 71.62 7.17 15.413096204824276 364 17.2475 30.895 42.222500000000004\n",
      "107年橋頭站_20190315.xls 橋頭 32.13875444839858 76.62 5.0 14.835497640078497 281 21.96 31.79 41.78\n",
      "108年橋頭站_20200317.xls 橋頭 24.891906077348064 63.96 2.71 12.590377760269098 362 14.5425 25.354999999999997 33.7675\n"
     ]
    }
   ],
   "source": [
    "lists_of_stats = []\n",
    "for specifyname in specifyname_of_file:\n",
    "    df = pd.read_excel(specifyname)\n",
    "    df1 = df[df['測項'] == 'PM2.5']\n",
    "    #df1.index = range(1, len(df1['日期']+1))  ##不知道為何不行，可再研究，目前是用loc及index去讀測站第一格\n",
    "    list_of_cols = list(df.columns)\n",
    "    ## 將column name做成list\n",
    "    \n",
    "    for i in range(3):\n",
    "        list_of_cols.pop(0)\n",
    "    ## 因columm name前三個不需要，用pop依序移除\n",
    "    \n",
    "    for list_of_col in list_of_cols:\n",
    "        df1[list_of_col] = pd.to_numeric(df1[list_of_col], errors='coerce')\n",
    "    ## 將00-23欄位數值全轉為float型態\n",
    "        \n",
    "    s_avg = df1[df1.count(axis=1, numeric_only=True) >= 16]\\\n",
    "           .mean(axis=1, numeric_only=True)\\\n",
    "           .map(lambda x:('%.2f')%x)\n",
    "    ## 計算日平均值(筆數大於等於16，小數點後2位)\n",
    "    \n",
    "    s_avg_num = pd.to_numeric(s_avg, errors='coerce')\n",
    "    ## 計算完的日平均值仍會是object，故再將數值轉一次float\n",
    "    \n",
    "    s_hr_max = df1.max(numeric_only=True).max()\n",
    "    s_hr_max_num = pd.to_numeric(s_hr_max, errors='coerce')\n",
    "    \n",
    "    dict_of_stats = {\n",
    "        '年度' : df1.loc[df1.index[0], '日期'],\n",
    "        '測站' : df1.loc[df1.index[0], '測站'],\n",
    "        '測項' : df1.loc[df1.index[0], '測項'],\n",
    "        '最大小時平均值' : s_hr_max_num,\n",
    "        '最小日平均值' : s_avg_num.min(),\n",
    "        '最大日平均值' : s_avg_num.max(),\n",
    "        '平均值' : s_avg_num.mean(),\n",
    "        '標準差' : s_avg_num.std(),\n",
    "        'Q1' : s_avg_num.quantile(0.25),\n",
    "        'Q2' : s_avg_num.quantile(0.5),\n",
    "        'Q3' : s_avg_num.quantile(0.75),\n",
    "        '有效個數' : s_avg_num.count()\n",
    "    }\n",
    "    ## 計算各敘述統計值並做成dict\n",
    "    \n",
    "    lists_of_stats.append(dict_of_stats) \n",
    "    ## 將各站dict append進去空list\n",
    "    \n",
    "    print(specifyname,\n",
    "          df1.loc[df1.index[0], '測站'],\n",
    "          s_avg_num.mean(),\n",
    "          s_avg_num.max(),\n",
    "          s_avg_num.min(),\n",
    "          s_avg_num.std(),\n",
    "          s_avg_num.count(),\n",
    "          s_avg_num.quantile(0.25),\n",
    "          s_avg_num.quantile(0.5),\n",
    "          s_avg_num.quantile(0.75))\n",
    "    ## print是用來測試"
   ]
  },
  {
   "cell_type": "code",
   "execution_count": 12,
   "metadata": {
    "scrolled": true
   },
   "outputs": [
    {
     "data": {
      "text/plain": [
       "[{'年度': '2017/01/01',\n",
       "  '測站': '橋頭',\n",
       "  '測項': 'PM2.5',\n",
       "  '最大小時平均值': 121.0,\n",
       "  '最小日平均值': 7.17,\n",
       "  '最大日平均值': 71.62,\n",
       "  '平均值': 30.976840659340684,\n",
       "  '標準差': 15.413096204824276,\n",
       "  'Q1': 17.2475,\n",
       "  'Q2': 30.895,\n",
       "  'Q3': 42.222500000000004,\n",
       "  '有效個數': 364},\n",
       " {'年度': '2018/01/01',\n",
       "  '測站': '橋頭',\n",
       "  '測項': 'PM2.5',\n",
       "  '最大小時平均值': 114.0,\n",
       "  '最小日平均值': 5.0,\n",
       "  '最大日平均值': 76.62,\n",
       "  '平均值': 32.13875444839858,\n",
       "  '標準差': 14.835497640078497,\n",
       "  'Q1': 21.96,\n",
       "  'Q2': 31.79,\n",
       "  'Q3': 41.78,\n",
       "  '有效個數': 281},\n",
       " {'年度': '2019/01/01',\n",
       "  '測站': '橋頭',\n",
       "  '測項': 'PM2.5',\n",
       "  '最大小時平均值': 95.0,\n",
       "  '最小日平均值': 2.71,\n",
       "  '最大日平均值': 63.96,\n",
       "  '平均值': 24.891906077348064,\n",
       "  '標準差': 12.590377760269098,\n",
       "  'Q1': 14.5425,\n",
       "  'Q2': 25.354999999999997,\n",
       "  'Q3': 33.7675,\n",
       "  '有效個數': 362}]"
      ]
     },
     "execution_count": 12,
     "metadata": {},
     "output_type": "execute_result"
    }
   ],
   "source": [
    "lists_of_stats"
   ]
  },
  {
   "cell_type": "code",
   "execution_count": 13,
   "metadata": {},
   "outputs": [],
   "source": [
    "df1_new = pd.DataFrame(lists_of_stats)\n",
    "\n",
    "## 用做好的dict做成新df"
   ]
  },
  {
   "cell_type": "code",
   "execution_count": 14,
   "metadata": {},
   "outputs": [
    {
     "data": {
      "text/html": [
       "<div>\n",
       "<style scoped>\n",
       "    .dataframe tbody tr th:only-of-type {\n",
       "        vertical-align: middle;\n",
       "    }\n",
       "\n",
       "    .dataframe tbody tr th {\n",
       "        vertical-align: top;\n",
       "    }\n",
       "\n",
       "    .dataframe thead th {\n",
       "        text-align: right;\n",
       "    }\n",
       "</style>\n",
       "<table border=\"1\" class=\"dataframe\">\n",
       "  <thead>\n",
       "    <tr style=\"text-align: right;\">\n",
       "      <th></th>\n",
       "      <th>Q1</th>\n",
       "      <th>Q2</th>\n",
       "      <th>Q3</th>\n",
       "      <th>平均值</th>\n",
       "      <th>年度</th>\n",
       "      <th>最大小時平均值</th>\n",
       "      <th>最大日平均值</th>\n",
       "      <th>最小日平均值</th>\n",
       "      <th>有效個數</th>\n",
       "      <th>標準差</th>\n",
       "      <th>測站</th>\n",
       "      <th>測項</th>\n",
       "    </tr>\n",
       "  </thead>\n",
       "  <tbody>\n",
       "    <tr>\n",
       "      <th>0</th>\n",
       "      <td>17.2475</td>\n",
       "      <td>30.895</td>\n",
       "      <td>42.2225</td>\n",
       "      <td>30.976841</td>\n",
       "      <td>2017/01/01</td>\n",
       "      <td>121.0</td>\n",
       "      <td>71.62</td>\n",
       "      <td>7.17</td>\n",
       "      <td>364</td>\n",
       "      <td>15.413096</td>\n",
       "      <td>橋頭</td>\n",
       "      <td>PM2.5</td>\n",
       "    </tr>\n",
       "    <tr>\n",
       "      <th>1</th>\n",
       "      <td>21.9600</td>\n",
       "      <td>31.790</td>\n",
       "      <td>41.7800</td>\n",
       "      <td>32.138754</td>\n",
       "      <td>2018/01/01</td>\n",
       "      <td>114.0</td>\n",
       "      <td>76.62</td>\n",
       "      <td>5.00</td>\n",
       "      <td>281</td>\n",
       "      <td>14.835498</td>\n",
       "      <td>橋頭</td>\n",
       "      <td>PM2.5</td>\n",
       "    </tr>\n",
       "    <tr>\n",
       "      <th>2</th>\n",
       "      <td>14.5425</td>\n",
       "      <td>25.355</td>\n",
       "      <td>33.7675</td>\n",
       "      <td>24.891906</td>\n",
       "      <td>2019/01/01</td>\n",
       "      <td>95.0</td>\n",
       "      <td>63.96</td>\n",
       "      <td>2.71</td>\n",
       "      <td>362</td>\n",
       "      <td>12.590378</td>\n",
       "      <td>橋頭</td>\n",
       "      <td>PM2.5</td>\n",
       "    </tr>\n",
       "  </tbody>\n",
       "</table>\n",
       "</div>"
      ],
      "text/plain": [
       "        Q1      Q2       Q3        平均值          年度  最大小時平均值  最大日平均值  最小日平均值  \\\n",
       "0  17.2475  30.895  42.2225  30.976841  2017/01/01    121.0   71.62    7.17   \n",
       "1  21.9600  31.790  41.7800  32.138754  2018/01/01    114.0   76.62    5.00   \n",
       "2  14.5425  25.355  33.7675  24.891906  2019/01/01     95.0   63.96    2.71   \n",
       "\n",
       "   有效個數        標準差  測站     測項  \n",
       "0   364  15.413096  橋頭  PM2.5  \n",
       "1   281  14.835498  橋頭  PM2.5  \n",
       "2   362  12.590378  橋頭  PM2.5  "
      ]
     },
     "execution_count": 14,
     "metadata": {},
     "output_type": "execute_result"
    }
   ],
   "source": [
    "df1_new"
   ]
  },
  {
   "cell_type": "code",
   "execution_count": 3,
   "metadata": {},
   "outputs": [],
   "source": [
    "#pd.set_option('display.max_columns', None)\n",
    "#pd.set_option('display.max_rows', None)\n",
    "\n",
    "## 顯示完整dataframe\n",
    "## 測試階段看完整數據用"
   ]
  },
  {
   "cell_type": "code",
   "execution_count": 14,
   "metadata": {},
   "outputs": [],
   "source": [
    "#df = pd.read_excel('103年仁武站_20170317.xls')\n",
    "#df_pm25 = df[df['測項'] == 'PM2.5']"
   ]
  },
  {
   "cell_type": "code",
   "execution_count": 6,
   "metadata": {},
   "outputs": [],
   "source": [
    "#df_pm25.index = range(1, len(df_pm25['日期'])+1)\n",
    "\n",
    "## 用日期欄來計算總個數，因可能會有跳日期的狀況"
   ]
  },
  {
   "cell_type": "code",
   "execution_count": 41,
   "metadata": {},
   "outputs": [],
   "source": [
    "#df_pm25.head()"
   ]
  },
  {
   "cell_type": "code",
   "execution_count": 8,
   "metadata": {},
   "outputs": [
    {
     "name": "stdout",
     "output_type": "stream",
     "text": [
      "['測站', '測項', '00', '01', '02', '03', '04', '05', '06', '07', '08', '09', 10, 11, 12, 13, 14, 15, 16, 17, 18, 19, 20, 21, 22, 23]\n",
      "['測項', '00', '01', '02', '03', '04', '05', '06', '07', '08', '09', 10, 11, 12, 13, 14, 15, 16, 17, 18, 19, 20, 21, 22, 23]\n",
      "['00', '01', '02', '03', '04', '05', '06', '07', '08', '09', 10, 11, 12, 13, 14, 15, 16, 17, 18, 19, 20, 21, 22, 23]\n"
     ]
    }
   ],
   "source": [
    "#cols = df_pm25.columns\n",
    "#list_of_cols = list(cols)\n",
    "\n",
    "#for i in range(3):\n",
    "#    list_of_cols.pop(0)\n",
    "#    print(list_of_cols)\n",
    "    \n",
    "## 將原本df的columns名稱擷取出來，做之後讀取每1colums準備(因下一步會用pd.to_numeric轉換df type\n",
    "## 但pd.to_numeric只適用Series)\n",
    "\n",
    "## .pop() ==> 取出最後個\n",
    "## .pop(0) ==> 取出第1個"
   ]
  },
  {
   "cell_type": "code",
   "execution_count": 9,
   "metadata": {
    "scrolled": true
   },
   "outputs": [
    {
     "name": "stderr",
     "output_type": "stream",
     "text": [
      "D:\\anaconda3\\lib\\site-packages\\ipykernel_launcher.py:3: SettingWithCopyWarning: \n",
      "A value is trying to be set on a copy of a slice from a DataFrame.\n",
      "Try using .loc[row_indexer,col_indexer] = value instead\n",
      "\n",
      "See the caveats in the documentation: http://pandas.pydata.org/pandas-docs/stable/indexing.html#indexing-view-versus-copy\n",
      "  This is separate from the ipykernel package so we can avoid doing imports until\n"
     ]
    }
   ],
   "source": [
    "#for list_of_col in list_of_cols:\n",
    "#    temp = pd.to_numeric(df_pm25[list_of_col], errors='coerce')\n",
    "#    df_pm25[list_of_col] = temp \n",
    "\n",
    "## pd.to_numeric只適用list, tuple, 1-d array, or Series\n",
    "## 用pd.to_numeric強制轉換type，某些含其他符號的string皆會轉為NAN\n",
    "## 前置作業完成，後續做資料統計部分\n",
    "\n",
    "## pd.to_numeric(arg, errors=['raise', 'coerce', 'ignore'], downcast)\n",
    "## If ‘raise’, then invalid parsing will raise an exception.\n",
    "## If ‘coerce’, then invalid parsing will be set as NaN.\n",
    "## If ‘ignore’, then invalid parsing will return the input."
   ]
  },
  {
   "cell_type": "code",
   "execution_count": 15,
   "metadata": {},
   "outputs": [],
   "source": [
    "writer=pd.ExcelWriter('各站敘述統計值_路阿掩埋備標.xlsx')\n",
    "df11.to_excel(writer, sheet_name='PM10')\n",
    "df12.to_excel(writer, sheet_name='PM2.5')\n",
    "df13.to_excel(writer, sheet_name='SO2')\n",
    "df14.to_excel(writer, sheet_name='NO2')\n",
    "df15.to_excel(writer, sheet_name='O3')\n",
    "df16.to_excel(writer, sheet_name='CO')\n",
    "writer.save()"
   ]
  },
  {
   "cell_type": "code",
   "execution_count": null,
   "metadata": {},
   "outputs": [],
   "source": []
  }
 ],
 "metadata": {
  "kernelspec": {
   "display_name": "Python 3",
   "language": "python",
   "name": "python3"
  },
  "language_info": {
   "codemirror_mode": {
    "name": "ipython",
    "version": 3
   },
   "file_extension": ".py",
   "mimetype": "text/x-python",
   "name": "python",
   "nbconvert_exporter": "python",
   "pygments_lexer": "ipython3",
   "version": "3.7.3"
  }
 },
 "nbformat": 4,
 "nbformat_minor": 2
}
