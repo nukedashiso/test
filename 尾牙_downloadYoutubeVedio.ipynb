{
 "cells": [
  {
   "cell_type": "code",
   "execution_count": 1,
   "metadata": {},
   "outputs": [],
   "source": [
    "# -*- coding: utf-8 -*-\n",
    "from pytube import YouTube"
   ]
  },
  {
   "cell_type": "code",
   "execution_count": 2,
   "metadata": {},
   "outputs": [],
   "source": [
    "#def progress(stream, chunk, file_handle, bytes_remaining):\n",
    "    #contentSize = video.filesize\n",
    "    #size = contentSize - bytes_remaining\n",
    "\n",
    "    #print('\\r' + '[Download progress]:[%s%s]%.2f%%;' % (\n",
    "    #'█' * int(size*20/contentSize), ' '*(20-int(size*20/contentSize)), float(size/contentSize*100)), end='')\n",
    "    \n",
    "## 顯示進度條，但沒顯示    "
   ]
  },
  {
   "cell_type": "code",
   "execution_count": 3,
   "metadata": {},
   "outputs": [],
   "source": [
    "with open('歌單url.txt') as file:\n",
    "    lists_of_url = file.readlines()\n",
    "    file.close()"
   ]
  },
  {
   "cell_type": "code",
   "execution_count": 4,
   "metadata": {},
   "outputs": [
    {
     "data": {
      "text/plain": [
       "['https://www.youtube.com/watch?v=PTjwcIke0aQ\\n',\n",
       " 'https://www.youtube.com/watch?v=nVjvTJ6sEEc\\n',\n",
       " 'https://www.youtube.com/watch?v=Ti5fdLn-ZTg\\n',\n",
       " 'https://www.youtube.com/watch?v=cnFmi7AXeK8\\n',\n",
       " 'https://www.youtube.com/watch?v=2AGem2tw9GU\\n',\n",
       " 'https://www.youtube.com/watch?v=yL1lr2gxRn4\\n',\n",
       " 'https://www.youtube.com/watch?v=dUIEb7cE81s\\n',\n",
       " 'https://www.youtube.com/watch?v=UQ1g1eFw4ck\\n']"
      ]
     },
     "execution_count": 4,
     "metadata": {},
     "output_type": "execute_result"
    }
   ],
   "source": [
    "lists_of_url"
   ]
  },
  {
   "cell_type": "code",
   "execution_count": 5,
   "metadata": {},
   "outputs": [],
   "source": [
    "#url_test = 'https://www.youtube.com/watch?v=PTjwcIke0aQ'"
   ]
  },
  {
   "cell_type": "code",
   "execution_count": 6,
   "metadata": {},
   "outputs": [],
   "source": [
    "#yt_test = YouTube(url_test)"
   ]
  },
  {
   "cell_type": "code",
   "execution_count": 7,
   "metadata": {},
   "outputs": [],
   "source": [
    "#yt_test.title"
   ]
  },
  {
   "cell_type": "code",
   "execution_count": 8,
   "metadata": {},
   "outputs": [],
   "source": [
    "for url in lists_of_url:\n",
    "    yt = YouTube(url)\n",
    "    yt.streams.first().download()\n",
    "    \n",
    "## 批量下載影片"
   ]
  },
  {
   "cell_type": "code",
   "execution_count": 9,
   "metadata": {},
   "outputs": [],
   "source": [
    "#url = 'https://www.youtube.com/watch?v=7LS0s23Ux1E'\n",
    "\n",
    "## youtube url"
   ]
  },
  {
   "cell_type": "code",
   "execution_count": 10,
   "metadata": {},
   "outputs": [],
   "source": [
    "#yt.streams.all()\n",
    "\n",
    "## 列出所有選項"
   ]
  },
  {
   "cell_type": "code",
   "execution_count": 11,
   "metadata": {},
   "outputs": [],
   "source": [
    "#first_stream = yt.streams.first()\n",
    "\n",
    "## 按原作說明，first會選擇最優方案，但好像不一定"
   ]
  },
  {
   "cell_type": "code",
   "execution_count": 12,
   "metadata": {},
   "outputs": [],
   "source": [
    "#yt.streams.filter(only_audio=True).all()\n",
    "\n",
    "## 篩選只有audio檔"
   ]
  },
  {
   "cell_type": "code",
   "execution_count": 13,
   "metadata": {},
   "outputs": [],
   "source": [
    "#yt.streams.get_by_itag(18).download(output_path='ENV_2020')\n",
    "\n",
    "## 選擇想要的itag選項\n",
    "## download\n",
    "## 1. output_path ==> 下載路徑\n",
    "## 2. filename ==> 儲存檔名\n",
    "## 3. filename_prefix ==> 不重要(有需要再找資料)"
   ]
  },
  {
   "cell_type": "code",
   "execution_count": 14,
   "metadata": {},
   "outputs": [],
   "source": [
    "#yt.streams.get_by_itag(140).download(filename='《这一生只为你》演唱：羽泉')"
   ]
  },
  {
   "cell_type": "code",
   "execution_count": 15,
   "metadata": {},
   "outputs": [],
   "source": [
    "#yt.streams.get_by_itag(249).download(filename='《这一生只为你》演唱：羽泉.webm_50')"
   ]
  }
 ],
 "metadata": {
  "kernelspec": {
   "display_name": "Python 3",
   "language": "python",
   "name": "python3"
  },
  "language_info": {
   "codemirror_mode": {
    "name": "ipython",
    "version": 3
   },
   "file_extension": ".py",
   "mimetype": "text/x-python",
   "name": "python",
   "nbconvert_exporter": "python",
   "pygments_lexer": "ipython3",
   "version": "3.7.3"
  }
 },
 "nbformat": 4,
 "nbformat_minor": 2
}
