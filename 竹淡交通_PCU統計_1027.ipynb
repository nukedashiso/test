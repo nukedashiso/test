{
 "cells": [
  {
   "cell_type": "code",
   "execution_count": 1,
   "metadata": {},
   "outputs": [],
   "source": [
    "%matplotlib inline"
   ]
  },
  {
   "cell_type": "code",
   "execution_count": 2,
   "metadata": {},
   "outputs": [],
   "source": [
    "import pandas as pd\n",
    "import numpy as np\n",
    "import matplotlib.pyplot as plt"
   ]
  },
  {
   "cell_type": "code",
   "execution_count": 3,
   "metadata": {},
   "outputs": [],
   "source": [
    "pd.set_option('display.max_columns', None)\n",
    "pd.set_option('display.max_rows', None)"
   ]
  },
  {
   "cell_type": "code",
   "execution_count": 4,
   "metadata": {},
   "outputs": [],
   "source": [
    "x1 = pd.ExcelFile('新竹海淡_交通_2nd.xlsx')\n",
    "sheet_names = x1.sheet_names"
   ]
  },
  {
   "cell_type": "code",
   "execution_count": 5,
   "metadata": {},
   "outputs": [],
   "source": [
    "#sheet_names\n",
    "#可列出所有sheet names"
   ]
  },
  {
   "cell_type": "code",
   "execution_count": 6,
   "metadata": {},
   "outputs": [],
   "source": [
    "#df1_woday = x1.parse('1.0622woday')\n",
    "#df1_hoday = x1.parse('1.0621hoday')\n",
    "#df2_woday = x1.parse('2.0622woday')\n",
    "#df2_hoday = x1.parse('2.0621hoday')\n",
    "#df3_woday = x1.parse('3.0622woday')\n",
    "#df3_hoday = x1.parse('3.0621hoday')"
   ]
  },
  {
   "cell_type": "code",
   "execution_count": 7,
   "metadata": {},
   "outputs": [],
   "source": [
    "df1_woday = pd.read_excel('新竹海淡_交通_2nd.xlsx', sheet_name=0)\n",
    "df1_hoday = pd.read_excel('新竹海淡_交通_2nd.xlsx', sheet_name=1)\n",
    "df2_woday = pd.read_excel('新竹海淡_交通_2nd.xlsx', sheet_name=2)\n",
    "df2_hoday = pd.read_excel('新竹海淡_交通_2nd.xlsx', sheet_name=3)\n",
    "df3_woday = pd.read_excel('新竹海淡_交通_2nd.xlsx', sheet_name=4)\n",
    "df3_hoday = pd.read_excel('新竹海淡_交通_2nd.xlsx', sheet_name=5)"
   ]
  },
  {
   "cell_type": "code",
   "execution_count": 8,
   "metadata": {},
   "outputs": [],
   "source": [
    "#df1_woday.head()\n",
    "#測試OK"
   ]
  },
  {
   "cell_type": "code",
   "execution_count": 9,
   "metadata": {},
   "outputs": [],
   "source": [
    "#df1_hoday.head()\n",
    "#測試OK"
   ]
  },
  {
   "cell_type": "code",
   "execution_count": 10,
   "metadata": {},
   "outputs": [],
   "source": [
    "coe_of_bike = 0.5\n",
    "coe_of_vehicle = 1\n",
    "coe_of_truck = 2\n",
    "coe_of_special = 3\n",
    "\n",
    "## 小型車當量(權重)"
   ]
  },
  {
   "cell_type": "code",
   "execution_count": 11,
   "metadata": {},
   "outputs": [],
   "source": [
    "def depart_direction_1stpoint(df):\n",
    "    df['海濱路_往北_機踏車'] = df['直行-機1'] + df['右轉-機2'] + df['左轉-機4']\n",
    "    df['海濱路_往南_機踏車'] = df['左轉-機2'] + df['直行-機3'] + df['右轉-機4']\n",
    "    df['天府路_往東_機踏車'] = df['右轉-機1'] + df['左轉-機3'] + df['直行-機4']\n",
    "    df['天府路_往西_機踏車'] = df['左轉-機1'] + df['直行-機2'] + df['右轉-機3']\n",
    "      \n",
    "    df['海濱路_往北_小型車'] = df['直行-小1'] + df['右轉-小2'] + df['左轉-小4']\n",
    "    df['海濱路_往南_小型車'] = df['左轉-小2'] + df['直行-小3'] + df['右轉-小4']    \n",
    "    df['天府路_往東_小型車'] = df['右轉-小1'] + df['左轉-小3'] + df['直行-小4']\n",
    "    df['天府路_往西_小型車'] = df['左轉-小1'] + df['直行-小2'] + df['右轉-小3']  \n",
    "      \n",
    "    df['海濱路_往北_大型車'] = df['直行-大1'] + df['右轉-大2'] + df['左轉-大4']\n",
    "    df['海濱路_往南_大型車'] = df['左轉-大2'] + df['直行-大3'] + df['右轉-大4']    \n",
    "    df['天府路_往東_大型車'] = df['右轉-大1'] + df['左轉-大3'] + df['直行-大4']\n",
    "    df['天府路_往西_大型車'] = df['左轉-大1'] + df['直行-大2'] + df['右轉-大3']    \n",
    "    \n",
    "    df['海濱路_往北_特種車'] = df['直行-特1'] + df['右轉-特2'] + df['左轉-特4']\n",
    "    df['海濱路_往南_特種車'] = df['左轉-特2'] + df['直行-特3'] + df['右轉-特4']\n",
    "    df['天府路_往東_特種車'] = df['右轉-特1'] + df['左轉-特3'] + df['直行-特4']\n",
    "    df['天府路_往西_特種車'] = df['左轉-特1'] + df['直行-特2'] + df['右轉-特3']\n",
    "    \n",
    "    ## 統計各方向車流\n",
    "    \n",
    "    df['海濱路_往北_總計'] = df['海濱路_往北_機踏車'] + df['海濱路_往北_小型車']\\\n",
    "                          + df['海濱路_往北_大型車'] + df['海濱路_往北_特種車']\n",
    "    df['海濱路_往南_總計'] = df['海濱路_往南_機踏車'] + df['海濱路_往南_小型車']\\\n",
    "                          + df['海濱路_往南_大型車'] + df['海濱路_往南_特種車']    \n",
    "    df['天府路_往東_總計'] = df['天府路_往東_機踏車'] + df['天府路_往東_小型車']\\\n",
    "                          + df['天府路_往東_大型車'] + df['天府路_往東_特種車']\n",
    "    df['天府路_往西_總計'] = df['天府路_往西_機踏車'] + df['天府路_往西_小型車']\\\n",
    "                          + df['天府路_往西_大型車'] + df['天府路_往西_特種車']    \n",
    "   \n",
    "\n",
    "    df['海濱路_往北_PCU'] = df['海濱路_往北_機踏車'] * coe_of_bike\\\n",
    "                         + df['海濱路_往北_小型車'] * coe_of_vehicle\\\n",
    "                         + df['海濱路_往北_大型車'] * coe_of_truck\\\n",
    "                         + df['海濱路_往北_特種車'] * coe_of_special\n",
    "    df['海濱路_往南_PCU'] = df['海濱路_往南_機踏車'] * coe_of_bike\\\n",
    "                         + df['海濱路_往南_小型車'] * coe_of_vehicle\\\n",
    "                         + df['海濱路_往南_大型車'] * coe_of_truck\\\n",
    "                         + df['海濱路_往南_特種車'] * coe_of_special\n",
    "    df['天府路_往東_PCU'] = df['天府路_往東_機踏車'] * coe_of_bike\\\n",
    "                         + df['天府路_往東_小型車'] * coe_of_vehicle\\\n",
    "                         + df['天府路_往東_大型車'] * coe_of_truck\\\n",
    "                         + df['天府路_往東_特種車'] * coe_of_special\n",
    "    df['天府路_往西_PCU'] = df['天府路_往西_機踏車'] * coe_of_bike\\\n",
    "                         + df['天府路_往西_小型車'] * coe_of_vehicle\\\n",
    "                         + df['天府路_往西_大型車'] * coe_of_truck\\\n",
    "                         + df['天府路_往西_特種車'] * coe_of_special\n",
    "    ## 計算各路段PCU \n",
    "\n",
    "\n",
    "## 最後須用excel計算部分數值確認(點有難)\n",
    "    "
   ]
  },
  {
   "cell_type": "code",
   "execution_count": 12,
   "metadata": {},
   "outputs": [],
   "source": [
    "def depart_direction_2ndpoint(df):\n",
    "    df['台15北段_往南_機踏車'] = df['直行-機2']\n",
    "    df['台15北段_往北_機踏車'] = df['直行-機1'] + df['右轉-機3']\n",
    "    df['台15南段_往南_機踏車'] = df['直行-機2'] + df['左轉-機3']\n",
    "    df['台15南段_往北_機踏車'] = df['直行-機1']\n",
    "    df['延平路_往南_機踏車'] = df['右轉-機3'] + df['左轉-機3']\n",
    "    df['延平路_往北_機踏車'] = df['右轉-機1'] + df['左轉-機2']\n",
    "    \n",
    "    df['台15北段_往南_小型車'] = df['直行-小2']\n",
    "    df['台15北段_往北_小型車'] = df['直行-小1'] + df['右轉-小3']\n",
    "    df['台15南段_往南_小型車'] = df['直行-小2'] + df['左轉-小3']\n",
    "    df['台15南段_往北_小型車'] = df['直行-小1']\n",
    "    df['延平路_往南_小型車'] = df['右轉-小3'] + df['左轉-小3']\n",
    "    df['延平路_往北_小型車'] = df['右轉-小1'] + df['左轉-小2']  \n",
    "    \n",
    "    df['台15北段_往南_大型車'] = df['直行-大2']\n",
    "    df['台15北段_往北_大型車'] = df['直行-大1'] + df['右轉-大3']\n",
    "    df['台15南段_往南_大型車'] = df['直行-大2'] + df['左轉-大3']\n",
    "    df['台15南段_往北_大型車'] = df['直行-大1']\n",
    "    df['延平路_往南_大型車'] = df['右轉-大3'] + df['左轉-大3']\n",
    "    df['延平路_往北_大型車'] = df['右轉-大1'] + df['左轉-大2']   \n",
    "    \n",
    "    df['台15北段_往南_特種車'] = df['直行-特2']\n",
    "    df['台15北段_往北_特種車'] = df['直行-特1'] + df['右轉-特3']\n",
    "    df['台15南段_往南_特種車'] = df['直行-特2'] + df['左轉-特3']\n",
    "    df['台15南段_往北_特種車'] = df['直行-特1']\n",
    "    df['延平路_往南_特種車'] = df['右轉-特3'] + df['左轉-特3']\n",
    "    df['延平路_往北_特種車'] = df['右轉-特1'] + df['左轉-特2']\n",
    "    \n",
    "    df['台15北段_往南_總計'] = df['台15北段_往南_機踏車']\\\n",
    "                           + df['台15北段_往南_小型車']\\\n",
    "                           + df['台15北段_往南_大型車']\\\n",
    "                           + df['台15北段_往南_特種車']\n",
    "    df['台15北段_往北_總計'] = df['台15北段_往北_機踏車']\\\n",
    "                           + df['台15北段_往北_小型車']\\\n",
    "                           + df['台15北段_往北_大型車']\\\n",
    "                           + df['台15北段_往北_特種車']\n",
    "    df['台15南段_往南_總計'] = df['台15南段_往南_機踏車']\\\n",
    "                           + df['台15南段_往南_小型車']\\\n",
    "                           + df['台15南段_往南_大型車']\\\n",
    "                           + df['台15南段_往南_特種車']\n",
    "    df['台15南段_往北_總計'] = df['台15南段_往北_機踏車']\\\n",
    "                           + df['台15南段_往北_小型車']\\\n",
    "                           + df['台15南段_往北_大型車']\\\n",
    "                           + df['台15南段_往北_特種車']\n",
    "    df['延平路_往南_總計'] = df['延平路_往南_機踏車']\\\n",
    "                         + df['延平路_往南_小型車']\\\n",
    "                         + df['延平路_往南_大型車']\\\n",
    "                         + df['延平路_往南_特種車']\n",
    "    df['延平路_往北_總計'] = df['延平路_往北_機踏車']\\\n",
    "                         + df['延平路_往北_小型車']\\\n",
    "                         + df['延平路_往北_大型車']\\\n",
    "                         + df['延平路_往北_特種車']\n",
    "    \n",
    "    \n",
    "    df['台15北段_往南_PCU'] = df['台15北段_往南_機踏車'] * coe_of_bike\\\n",
    "                           + df['台15北段_往南_小型車'] * coe_of_vehicle\\\n",
    "                           + df['台15北段_往南_大型車'] * coe_of_truck\\\n",
    "                           + df['台15北段_往南_特種車'] * coe_of_special\n",
    "    df['台15北段_往北_PCU'] = df['台15北段_往北_機踏車'] * coe_of_bike\\\n",
    "                           + df['台15北段_往北_小型車'] * coe_of_vehicle\\\n",
    "                           + df['台15北段_往北_大型車'] * coe_of_truck\\\n",
    "                           + df['台15北段_往北_特種車'] * coe_of_special\n",
    "    df['台15南段_往南_PCU'] = df['台15南段_往南_機踏車'] * coe_of_bike\\\n",
    "                           + df['台15南段_往南_小型車'] * coe_of_vehicle\\\n",
    "                           + df['台15南段_往南_大型車'] * coe_of_truck\\\n",
    "                           + df['台15南段_往南_特種車'] * coe_of_special\n",
    "    df['台15南段_往北_PCU'] = df['台15南段_往北_機踏車'] * coe_of_bike\\\n",
    "                           + df['台15南段_往北_小型車'] * coe_of_vehicle\\\n",
    "                           + df['台15南段_往北_大型車'] * coe_of_truck\\\n",
    "                           + df['台15南段_往北_特種車'] * coe_of_special\n",
    "    df['延平路_往南_PCU'] = df['延平路_往南_機踏車'] * coe_of_bike\\\n",
    "                         + df['延平路_往南_小型車'] * coe_of_vehicle\\\n",
    "                         + df['延平路_往南_大型車'] * coe_of_truck\\\n",
    "                         + df['延平路_往南_特種車'] * coe_of_special\n",
    "    df['延平路_往北_PCU'] = df['延平路_往北_機踏車'] * coe_of_bike\\\n",
    "                         + df['延平路_往北_小型車'] * coe_of_vehicle\\\n",
    "                         + df['延平路_往北_大型車'] * coe_of_truck\\\n",
    "                         + df['延平路_往北_特種車'] * coe_of_special\n",
    "## 台15線及延平路路口"
   ]
  },
  {
   "cell_type": "code",
   "execution_count": 13,
   "metadata": {},
   "outputs": [],
   "source": [
    "def depart_direction_3thpoint(df):\n",
    "    df['台68_往東_機踏車'] = df['直行-機1'] + df['右轉-機3']\n",
    "    df['台68_往西_機踏車'] = df['直行-機2']\n",
    "    df['榮濱路_往南_機踏車'] = df['右轉-機1'] + df['左轉-機2']\n",
    "    df['榮濱路_往北_機踏車'] = df['右轉-機3'] + df['左轉-機3']\n",
    "    df['南寮大道_往東_機踏車'] = df['直行-機1']\n",
    "    df['南寮大道_往西_機踏車'] = df['直行-機2'] + df['左轉-機3']\n",
    "\n",
    "    df['台68_往東_小型車'] = df['直行-小1'] + df['右轉-小3']\n",
    "    df['台68_往西_小型車'] = df['直行-小2']\n",
    "    df['榮濱路_往南_小型車'] = df['右轉-小1'] + df['左轉-小2']\n",
    "    df['榮濱路_往北_小型車'] = df['右轉-小3'] + df['左轉-小3']\n",
    "    df['南寮大道_往東_小型車'] = df['直行-小1']\n",
    "    df['南寮大道_往西_小型車'] = df['直行-小2'] + df['左轉-小3']\n",
    "    \n",
    "    df['台68_往東_大型車'] = df['直行-大1'] + df['右轉-大3']\n",
    "    df['台68_往西_大型車'] = df['直行-大2']\n",
    "    df['榮濱路_往南_大型車'] = df['右轉-大1'] + df['左轉-大2']\n",
    "    df['榮濱路_往北_大型車'] = df['右轉-大3'] + df['左轉-大3']\n",
    "    df['南寮大道_往東_大型車'] = df['直行-大1']\n",
    "    df['南寮大道_往西_大型車'] = df['直行-大2'] + df['左轉-大3']\n",
    "    \n",
    "    df['台68_往東_特種車'] = df['直行-特1'] + df['右轉-特3']\n",
    "    df['台68_往西_特種車'] = df['直行-特2']\n",
    "    df['榮濱路_往南_特種車'] = df['右轉-特1'] + df['左轉-特2']\n",
    "    df['榮濱路_往北_特種車'] = df['右轉-特3'] + df['左轉-特3']\n",
    "    df['南寮大道_往東_特種車'] = df['直行-特1']\n",
    "    df['南寮大道_往西_特種車'] = df['直行-特2'] + df['左轉-特3']\n",
    "    \n",
    "    df['台68_往東_總計'] = df['台68_往東_機踏車']\\\n",
    "                       + df['台68_往東_小型車']\\\n",
    "                       + df['台68_往東_大型車']\\\n",
    "                       + df['台68_往東_特種車']\n",
    "    df['台68_往西_總計'] = df['台68_往西_機踏車']\\\n",
    "                       + df['台68_往西_小型車']\\\n",
    "                       + df['台68_往西_大型車']\\\n",
    "                       + df['台68_往西_特種車']\n",
    "    df['榮濱路_往南_總計'] = df['榮濱路_往南_機踏車']\\\n",
    "                         + df['榮濱路_往南_小型車']\\\n",
    "                         + df['榮濱路_往南_大型車']\\\n",
    "                         + df['榮濱路_往南_特種車']\n",
    "    df['榮濱路_往北_總計'] = df['榮濱路_往北_機踏車']\\\n",
    "                         + df['榮濱路_往北_小型車']\\\n",
    "                         + df['榮濱路_往北_大型車']\\\n",
    "                         + df['榮濱路_往北_特種車']\n",
    "    df['南寮大道_往東_總計'] = df['南寮大道_往東_機踏車']\\\n",
    "                           + df['南寮大道_往東_小型車']\\\n",
    "                           + df['南寮大道_往東_大型車']\\\n",
    "                           + df['南寮大道_往東_特種車']\n",
    "    df['南寮大道_往西_總計'] = df['南寮大道_往西_機踏車']\\\n",
    "                           + df['南寮大道_往西_小型車']\\\n",
    "                           + df['南寮大道_往西_大型車']\\\n",
    "                           + df['南寮大道_往西_特種車']    \n",
    "    \n",
    "    \n",
    "    df['台68_往東_PCU'] = df['台68_往東_機踏車'] * coe_of_bike\\\n",
    "                       + df['台68_往東_小型車'] * coe_of_vehicle\\\n",
    "                       + df['台68_往東_大型車'] * coe_of_truck\\\n",
    "                       + df['台68_往東_特種車'] * coe_of_special\n",
    "    df['台68_往西_PCU'] = df['台68_往西_機踏車'] * coe_of_bike\\\n",
    "                       + df['台68_往西_小型車'] * coe_of_vehicle\\\n",
    "                       + df['台68_往西_大型車'] * coe_of_truck\\\n",
    "                       + df['台68_往西_特種車'] * coe_of_special\n",
    "    df['榮濱路_往南_PCU'] = df['榮濱路_往南_機踏車'] * coe_of_bike\\\n",
    "                         + df['榮濱路_往南_小型車'] * coe_of_vehicle\\\n",
    "                         + df['榮濱路_往南_大型車'] * coe_of_truck\\\n",
    "                         + df['榮濱路_往南_特種車'] * coe_of_special\n",
    "    df['榮濱路_往北_PCU'] = df['榮濱路_往北_機踏車'] * coe_of_bike\\\n",
    "                         + df['榮濱路_往北_小型車'] * coe_of_vehicle\\\n",
    "                         + df['榮濱路_往北_大型車'] * coe_of_truck\\\n",
    "                         + df['榮濱路_往北_特種車'] * coe_of_special\n",
    "    df['南寮大道_往東_PCU'] = df['南寮大道_往東_機踏車'] * coe_of_bike\\\n",
    "                           + df['南寮大道_往東_小型車'] * coe_of_vehicle\\\n",
    "                           + df['南寮大道_往東_大型車'] * coe_of_truck\\\n",
    "                           + df['南寮大道_往東_特種車'] * coe_of_special\n",
    "    df['南寮大道_往西_PCU'] = df['南寮大道_往西_機踏車'] * coe_of_bike\\\n",
    "                           + df['南寮大道_往西_小型車'] * coe_of_vehicle\\\n",
    "                           + df['南寮大道_往西_大型車'] * coe_of_truck\\\n",
    "                           + df['南寮大道_往西_特種車'] * coe_of_special\n",
    "## 南寮大道及榮濱路路口"
   ]
  },
  {
   "cell_type": "code",
   "execution_count": 14,
   "metadata": {},
   "outputs": [],
   "source": [
    "depart_direction_1stpoint(df1_woday)\n",
    "depart_direction_1stpoint(df1_hoday)\n",
    "depart_direction_2ndpoint(df2_woday)\n",
    "depart_direction_2ndpoint(df2_hoday)\n",
    "depart_direction_3thpoint(df3_woday)\n",
    "depart_direction_3thpoint(df3_hoday)"
   ]
  },
  {
   "cell_type": "code",
   "execution_count": 15,
   "metadata": {},
   "outputs": [],
   "source": [
    "df2_woday.replace('*', 0, inplace=True)\n",
    "df2_hoday.replace('*', 0, inplace=True)\n",
    "df3_woday.replace('*', 0, inplace=True)\n",
    "df3_hoday.replace('*', 0, inplace=True)\n",
    "\n",
    "## 可不需要此動作，但可方便計算總數"
   ]
  },
  {
   "cell_type": "code",
   "execution_count": 16,
   "metadata": {},
   "outputs": [],
   "source": [
    "#lists_of_sum = [df1_woday.sum().sum() / 2, df1_hoday.sum().sum() / 2, df2_woday.sum().sum() / 2,\n",
    "                #df2_hoday.sum().sum() / 2, df3_woday.sum().sum() / 2, df3_hoday.sum().sum() / 2]\n",
    "#print(lists_of_sum)\n",
    "\n",
    "#測試總車輛數是否正確(8/12 dataframe新增計算PCU，故總量會增加PCU的數量)\n",
    "#需除以2，因原本rawdata還在\n",
    "\n",
    "## 0812 ==> 各路段統計方式更新，有些方向會有重複計算的地方，所以總量不會一樣"
   ]
  },
  {
   "cell_type": "code",
   "execution_count": 17,
   "metadata": {},
   "outputs": [],
   "source": [
    "#df1_woday.head()\n",
    "#測試OK"
   ]
  },
  {
   "cell_type": "code",
   "execution_count": 18,
   "metadata": {},
   "outputs": [],
   "source": [
    "#df1_hoday.head()\n",
    "#測試OK"
   ]
  },
  {
   "cell_type": "code",
   "execution_count": 19,
   "metadata": {},
   "outputs": [],
   "source": [
    "lists_of_index = ['00-01', '01-02', '02-03', '03-04', '04-05', '05-06', '06-07', '07-08',\n",
    "                  '08-09', '09-10', '10-11', '11-12', '12-13', '13-14', '14-15', '15-16',\n",
    "                  '16-17', '17-18', '18-19', '19-20', '20-21', '21-22', '22-23', '23-24']"
   ]
  },
  {
   "cell_type": "code",
   "execution_count": 20,
   "metadata": {},
   "outputs": [],
   "source": [
    "df1_woday.index = lists_of_index\n",
    "df1_hoday.index = lists_of_index\n",
    "df2_woday.index = lists_of_index\n",
    "df2_hoday.index = lists_of_index\n",
    "df3_woday.index = lists_of_index\n",
    "df3_hoday.index = lists_of_index\n",
    "\n",
    "##替換index"
   ]
  },
  {
   "cell_type": "code",
   "execution_count": 21,
   "metadata": {},
   "outputs": [],
   "source": [
    "writer = pd.ExcelWriter('新竹海淡_交通量整理(方向)_PCU統計_2nd.xlsx')\n",
    "df1_woday.to_excel(writer, sheet_name='天府路及海濱路路口(平日)')\n",
    "df1_hoday.to_excel(writer, sheet_name='天府路及海濱路路口(假日)')\n",
    "df2_woday.to_excel(writer, sheet_name='台15線及延平路口(平日)')\n",
    "df2_hoday.to_excel(writer, sheet_name='台15線及延平路口(假日)')\n",
    "df3_woday.to_excel(writer,sheet_name='南寮大道及榮濱路(平日)')\n",
    "df3_hoday.to_excel(writer,sheet_name='南寮大道及榮濱路(假日)')\n",
    "\n",
    "writer.save()\n",
    "writer.close()\n",
    "#df2_woday.to"
   ]
  },
  {
   "cell_type": "code",
   "execution_count": 22,
   "metadata": {},
   "outputs": [],
   "source": [
    "#def lists_of_peak(df, col):\n",
    "    #lists_of_direction = [df[col].idxmin(), df[col].min(), df[col].idxmax(), df[col].max()]\n",
    "    #return lists_of_direction"
   ]
  },
  {
   "cell_type": "code",
   "execution_count": 23,
   "metadata": {},
   "outputs": [],
   "source": [
    "#PCU_1 = ['海濱路_往北_PCU', '海濱路_往南_PCU', '天府路_往東_PCU', '天府路_往西_PCU']\n",
    "#PCU_2 = ['台15北段_往南_PCU', '台15北段_往北_PCU', '台15南段_往南_PCU', '台15南段_往北_PCU', \n",
    "               #'延平路_往南_PCU', '延平路_往北_PCU']\n",
    "#PCU_3 = ['台68_往東_PCU', '台68_往西_PCU', '榮濱路_往南_PCU', '榮濱路_往北_PCU',\n",
    "               #'南寮大道_往東_PCU', '南寮大道_往西_PCU']"
   ]
  },
  {
   "cell_type": "code",
   "execution_count": 24,
   "metadata": {},
   "outputs": [],
   "source": [
    "#def list_of_rushhour(df, col):\n",
    "    #lists_of_df = []\n",
    "    #list_of_singlepath = [df[col].idxmax(), df[col].max(), df[col].mean(), ]"
   ]
  },
  {
   "cell_type": "code",
   "execution_count": 25,
   "metadata": {},
   "outputs": [],
   "source": [
    "#writer = pd.ExcelWriter('新竹海淡_交通量整理(方向)V1.xlsx')\n",
    "#df1_woday.to_excel(writer, sheet_name='天府路及海濱路路口(平日)')\n",
    "#df1_hoday.to_excel(writer, sheet_name='天府路及海濱路路口(假日)')\n",
    "#df2_woday.to_excel(writer, sheet_name='台15線及延平路口(平日)')\n",
    "#df2_hoday.to_excel(writer, sheet_name='台15線及延平路口(假日)')\n",
    "#df3_woday.to_excel(writer,sheet_name='南寮大道及榮濱路(平日)')\n",
    "#df3_hoday.to_excel(writer,sheet_name='南寮大道及榮濱路(假日)')\n",
    "\n",
    "#writer.save()\n",
    "#writer.close()\n",
    "\n",
    "## 測試更新是否可以覆蓋檔案，結果可以"
   ]
  },
  {
   "cell_type": "code",
   "execution_count": 26,
   "metadata": {},
   "outputs": [],
   "source": [
    "#df1_woday.head()\n",
    "# 測試OK"
   ]
  },
  {
   "cell_type": "code",
   "execution_count": 27,
   "metadata": {},
   "outputs": [],
   "source": [
    "#df1_hoday.head()\n",
    "#測試OK"
   ]
  },
  {
   "cell_type": "code",
   "execution_count": 28,
   "metadata": {},
   "outputs": [],
   "source": [
    "#s1_mo_east = df1_woday['直行-機1'] + df1_woday['右轉-機2'] + df1_woday['左轉-機4']\n",
    "#s1_ve_east = df1_woday['直行-小1'] + df1_woday['右轉-小2'] + df1_woday['左轉-小4']\n",
    "#s1_tr_east = df1_woday['直行-大1'] + df1_woday['右轉-大2'] + df1_woday['左轉-大4']\n",
    "#s1_sp_east = df1_woday['直行-特1'] + df1_woday['右轉-特2'] + df1_woday['左轉-特4']\n",
    "\n",
    "#s1_mo_west = df1_woday['左轉-機2'] + df1_woday['直行-機3'] + df1_woday['右轉-機4']\n",
    "#s1_ve_west = df1_woday['左轉-小2'] + df1_woday['直行-小3'] + df1_woday['右轉-小4']\n",
    "#s1_tr_west = df1_woday['左轉-大2'] + df1_woday['直行-大3'] + df1_woday['右轉-大4']\n",
    "#s1_sp_west = df1_woday['左轉-特2'] + df1_woday['直行-特3'] + df1_woday['右轉-特4']\n",
    "\n",
    "#s1_mo_south = df1_woday['右轉-機1'] + df1_woday['左轉-機3'] + df1_woday['直行-機4']\n",
    "#s1_ve_south = df1_woday['右轉-小1'] + df1_woday['左轉-小3'] + df1_woday['直行-小4']\n",
    "#s1_tr_south = df1_woday['右轉-大1'] + df1_woday['左轉-大3'] + df1_woday['直行-大4']\n",
    "#s1_sp_south = df1_woday['右轉-特1'] + df1_woday['左轉-特3'] + df1_woday['直行-特4']\n",
    "\n",
    "#s1_mo_north = df1_woday['左轉-機1'] + df1_woday['直行-機2'] + df1_woday['右轉-機3']\n",
    "#s1_ve_north = df1_woday['左轉-小1'] + df1_woday['直行-小2'] + df1_woday['右轉-小3']\n",
    "#s1_tr_north = df1_woday['左轉-大1'] + df1_woday['直行-大2'] + df1_woday['右轉-大3']\n",
    "#s1_sp_north = df1_woday['左轉-特1'] + df1_woday['直行-特2'] + df1_woday['右轉-特3']\n",
    "\n",
    "#原想法為創造多個series後，在用concat合併成dataframe，但合併後series無column名稱，可再研究"
   ]
  },
  {
   "cell_type": "code",
   "execution_count": 29,
   "metadata": {},
   "outputs": [],
   "source": [
    "#df1_new_column = ['s1_mo_east', 's1_ve_east', 's1_tr_east', 's1_sp_east',\n",
    "#                  's1_mo_west', 's1_ve_west', 's1_tr_west', 's1_sp_west',\n",
    "#                  's1_mo_south', 's1_ve_south', 's1_tr_south', 's1_sp_south',\n",
    "#                  's1_mo_north', 's1_ve_north', 's1_tr_north', 's1_sp_north']\n",
    "\n",
    "#原用concat合併後想替換dataframe coulmns，可行，但覺得有點麻煩"
   ]
  },
  {
   "cell_type": "code",
   "execution_count": 30,
   "metadata": {},
   "outputs": [],
   "source": [
    "#df1_new = pd.concat([s1_mo_east, s1_ve_east, s1_tr_east, s1_sp_east,\n",
    "#                     s1_mo_west, s1_ve_west, s1_tr_west, s1_sp_west,\n",
    "#                     s1_mo_south, s1_ve_south, s1_tr_south, s1_sp_south,\n",
    "#                     s1_mo_north, s1_ve_north, s1_tr_north, s1_sp_north], axis=1)"
   ]
  },
  {
   "cell_type": "code",
   "execution_count": 31,
   "metadata": {},
   "outputs": [],
   "source": [
    "#df1_new.columns = df1_new_column"
   ]
  },
  {
   "cell_type": "code",
   "execution_count": 32,
   "metadata": {},
   "outputs": [],
   "source": [
    "#df1_new.columns"
   ]
  },
  {
   "cell_type": "code",
   "execution_count": null,
   "metadata": {},
   "outputs": [],
   "source": []
  }
 ],
 "metadata": {
  "kernelspec": {
   "display_name": "Python 3",
   "language": "python",
   "name": "python3"
  },
  "language_info": {
   "codemirror_mode": {
    "name": "ipython",
    "version": 3
   },
   "file_extension": ".py",
   "mimetype": "text/x-python",
   "name": "python",
   "nbconvert_exporter": "python",
   "pygments_lexer": "ipython3",
   "version": "3.7.3"
  }
 },
 "nbformat": 4,
 "nbformat_minor": 2
}
